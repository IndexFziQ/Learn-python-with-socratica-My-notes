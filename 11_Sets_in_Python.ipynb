{
  "nbformat": 4,
  "nbformat_minor": 0,
  "metadata": {
    "colab": {
      "name": "11_Sets_in_Python.ipynb",
      "version": "0.3.2",
      "provenance": [],
      "collapsed_sections": []
    },
    "kernelspec": {
      "name": "python3",
      "display_name": "Python 3"
    },
    "accelerator": "GPU"
  },
  "cells": [
    {
      "metadata": {
        "id": "WFs7CZMk5KFC",
        "colab_type": "text"
      },
      "cell_type": "markdown",
      "source": [
        "在Python中，数据结构形式有很多，包括：Set、List、Tuple和Dictionary。本节详细介绍一下Set，我们先新建一个set集合，用dir()得到它能使用的函数。"
      ]
    },
    {
      "metadata": {
        "id": "1Qz6excF5vWb",
        "colab_type": "code",
        "outputId": "b021d521-bd93-4598-ca87-da6aa017199a",
        "colab": {
          "base_uri": "https://localhost:8080/",
          "height": 952
        }
      },
      "cell_type": "code",
      "source": [
        "example = set()\n",
        "dir(example) # the following functions is what 'set()' can use"
      ],
      "execution_count": 4,
      "outputs": [
        {
          "output_type": "execute_result",
          "data": {
            "text/plain": [
              "['__and__',\n",
              " '__class__',\n",
              " '__contains__',\n",
              " '__delattr__',\n",
              " '__dir__',\n",
              " '__doc__',\n",
              " '__eq__',\n",
              " '__format__',\n",
              " '__ge__',\n",
              " '__getattribute__',\n",
              " '__gt__',\n",
              " '__hash__',\n",
              " '__iand__',\n",
              " '__init__',\n",
              " '__init_subclass__',\n",
              " '__ior__',\n",
              " '__isub__',\n",
              " '__iter__',\n",
              " '__ixor__',\n",
              " '__le__',\n",
              " '__len__',\n",
              " '__lt__',\n",
              " '__ne__',\n",
              " '__new__',\n",
              " '__or__',\n",
              " '__rand__',\n",
              " '__reduce__',\n",
              " '__reduce_ex__',\n",
              " '__repr__',\n",
              " '__ror__',\n",
              " '__rsub__',\n",
              " '__rxor__',\n",
              " '__setattr__',\n",
              " '__sizeof__',\n",
              " '__str__',\n",
              " '__sub__',\n",
              " '__subclasshook__',\n",
              " '__xor__',\n",
              " 'add',\n",
              " 'clear',\n",
              " 'copy',\n",
              " 'difference',\n",
              " 'difference_update',\n",
              " 'discard',\n",
              " 'intersection',\n",
              " 'intersection_update',\n",
              " 'isdisjoint',\n",
              " 'issubset',\n",
              " 'issuperset',\n",
              " 'pop',\n",
              " 'remove',\n",
              " 'symmetric_difference',\n",
              " 'symmetric_difference_update',\n",
              " 'union',\n",
              " 'update']"
            ]
          },
          "metadata": {
            "tags": []
          },
          "execution_count": 4
        }
      ]
    },
    {
      "metadata": {
        "id": "stghbAHx6QmH",
        "colab_type": "text"
      },
      "cell_type": "markdown",
      "source": [
        "我们首先尝试给set增加一个元素，从dir中，可以找到具有该功能的add()函数。"
      ]
    },
    {
      "metadata": {
        "id": "Qgqn0iHF67SR",
        "colab_type": "code",
        "outputId": "0bd7732b-6af5-407d-9319-e5e6b4ab6324",
        "colab": {
          "base_uri": "https://localhost:8080/",
          "height": 136
        }
      },
      "cell_type": "code",
      "source": [
        "help(example.add) # get help from API document"
      ],
      "execution_count": 5,
      "outputs": [
        {
          "output_type": "stream",
          "text": [
            "Help on built-in function add:\n",
            "\n",
            "add(...) method of builtins.set instance\n",
            "    Add an element to a set.\n",
            "    \n",
            "    This has no effect if the element is already present.\n",
            "\n"
          ],
          "name": "stdout"
        }
      ]
    },
    {
      "metadata": {
        "id": "9GMf6qG57WHA",
        "colab_type": "text"
      },
      "cell_type": "markdown",
      "source": [
        "从文档我们得知，add()函数可以给set增加一个元素，不管这个元素是否出现过，意思就是说：如果增加的这个元素set里有，不会报错。我们尝试给example增加各种类型的元素："
      ]
    },
    {
      "metadata": {
        "id": "zxnFRWlY8BqP",
        "colab_type": "code",
        "outputId": "0f34cdf5-c6d8-4132-ba70-9b57082f8654",
        "colab": {
          "base_uri": "https://localhost:8080/",
          "height": 34
        }
      },
      "cell_type": "code",
      "source": [
        "example.add(42)\n",
        "example.add(False)\n",
        "example.add(3.1415926)\n",
        "example.add('String')\n",
        "\n",
        "print(example)"
      ],
      "execution_count": 6,
      "outputs": [
        {
          "output_type": "stream",
          "text": [
            "{False, 42, 3.1415926, 'String'}\n"
          ],
          "name": "stdout"
        }
      ]
    },
    {
      "metadata": {
        "id": "JDJocmoq8ZSZ",
        "colab_type": "text"
      },
      "cell_type": "markdown",
      "source": [
        "set的每一个成分被称为element（元素），每个元素可以是任意类型的数据。\n",
        "\n",
        "下面讲一个set与其他数据结构不同的地方："
      ]
    },
    {
      "metadata": {
        "id": "yhGyfBMp87V-",
        "colab_type": "code",
        "outputId": "30b9e4e6-8c4b-438d-9d1f-9eb592335e0f",
        "colab": {
          "base_uri": "https://localhost:8080/",
          "height": 34
        }
      },
      "cell_type": "code",
      "source": [
        "example.add(42)\n",
        "print(example)"
      ],
      "execution_count": 7,
      "outputs": [
        {
          "output_type": "stream",
          "text": [
            "{False, 42, 3.1415926, 'String'}\n"
          ],
          "name": "stdout"
        }
      ]
    },
    {
      "metadata": {
        "id": "4DjUoVBD9OyN",
        "colab_type": "text"
      },
      "cell_type": "markdown",
      "source": [
        "由这个例子可以得到，set在增加元素的时候会做一个交集的操作，增加的元素如果set里有就不加了。我们也可以用len()函数看一下set此时的长度，证明一下："
      ]
    },
    {
      "metadata": {
        "id": "uQ-f5EhC9oKp",
        "colab_type": "code",
        "outputId": "2a2cc359-415f-4b4e-eb9b-657902f10d0e",
        "colab": {
          "base_uri": "https://localhost:8080/",
          "height": 34
        }
      },
      "cell_type": "code",
      "source": [
        "len(example)"
      ],
      "execution_count": 8,
      "outputs": [
        {
          "output_type": "execute_result",
          "data": {
            "text/plain": [
              "4"
            ]
          },
          "metadata": {
            "tags": []
          },
          "execution_count": 8
        }
      ]
    },
    {
      "metadata": {
        "id": "bh9poKFO9wOm",
        "colab_type": "text"
      },
      "cell_type": "markdown",
      "source": [
        "与增加相对应的是去除，set可以使用remove()进行操作："
      ]
    },
    {
      "metadata": {
        "id": "ndax8NZq-CC-",
        "colab_type": "code",
        "outputId": "2b4f0efa-1ec3-4288-d8ee-ea103bb70d82",
        "colab": {
          "base_uri": "https://localhost:8080/",
          "height": 136
        }
      },
      "cell_type": "code",
      "source": [
        "help(example.remove)"
      ],
      "execution_count": 9,
      "outputs": [
        {
          "output_type": "stream",
          "text": [
            "Help on built-in function remove:\n",
            "\n",
            "remove(...) method of builtins.set instance\n",
            "    Remove an element from a set; it must be a member.\n",
            "    \n",
            "    If the element is not a member, raise a KeyError.\n",
            "\n"
          ],
          "name": "stdout"
        }
      ]
    },
    {
      "metadata": {
        "id": "VEBLJEZ_-Ujq",
        "colab_type": "text"
      },
      "cell_type": "markdown",
      "source": [
        "意思就是说去除set中的一个元素，但是给的变量一定要是set中存在的，否则报错。"
      ]
    },
    {
      "metadata": {
        "id": "RGsaF1Zx-ijK",
        "colab_type": "code",
        "outputId": "0bb2139b-813e-488d-c44c-a0802d2daf55",
        "colab": {
          "base_uri": "https://localhost:8080/",
          "height": 34
        }
      },
      "cell_type": "code",
      "source": [
        "example.remove(42)\n",
        "len(example)"
      ],
      "execution_count": 10,
      "outputs": [
        {
          "output_type": "execute_result",
          "data": {
            "text/plain": [
              "3"
            ]
          },
          "metadata": {
            "tags": []
          },
          "execution_count": 10
        }
      ]
    },
    {
      "metadata": {
        "id": "S4DC-w7iAOQj",
        "colab_type": "code",
        "colab": {
          "base_uri": "https://localhost:8080/",
          "height": 34
        },
        "outputId": "98950aa3-3411-4282-bdef-5317badca86c"
      },
      "cell_type": "code",
      "source": [
        "example"
      ],
      "execution_count": 11,
      "outputs": [
        {
          "output_type": "execute_result",
          "data": {
            "text/plain": [
              "{3.1415926, False, 'String'}"
            ]
          },
          "metadata": {
            "tags": []
          },
          "execution_count": 11
        }
      ]
    },
    {
      "metadata": {
        "id": "NC4n0AQkAjh0",
        "colab_type": "text"
      },
      "cell_type": "markdown",
      "source": [
        "下面介绍另一个去除元素的函数discard："
      ]
    },
    {
      "metadata": {
        "id": "c3LzBHFkAq81",
        "colab_type": "code",
        "colab": {
          "base_uri": "https://localhost:8080/",
          "height": 136
        },
        "outputId": "e37cea5f-c5e7-4c6e-bcb7-f82a6e6f2bd1"
      },
      "cell_type": "code",
      "source": [
        "help(example.discard)"
      ],
      "execution_count": 12,
      "outputs": [
        {
          "output_type": "stream",
          "text": [
            "Help on built-in function discard:\n",
            "\n",
            "discard(...) method of builtins.set instance\n",
            "    Remove an element from a set if it is a member.\n",
            "    \n",
            "    If the element is not a member, do nothing.\n",
            "\n"
          ],
          "name": "stdout"
        }
      ]
    },
    {
      "metadata": {
        "id": "uj7glIGWA7u6",
        "colab_type": "text"
      },
      "cell_type": "markdown",
      "source": [
        "从文档介绍我们可以找出不同，discard函数在遇到给定变量不是set中元素的时候，不会报错。"
      ]
    },
    {
      "metadata": {
        "id": "7HJ8Tl7oBJ_T",
        "colab_type": "code",
        "colab": {
          "base_uri": "https://localhost:8080/",
          "height": 34
        },
        "outputId": "d7c06155-6948-45e8-f9ba-804b92c806d3"
      },
      "cell_type": "code",
      "source": [
        "example.discard(50) # 50 is not in example\n",
        "example # piece and quiet, sometimes it is more convenient than remove()"
      ],
      "execution_count": 13,
      "outputs": [
        {
          "output_type": "execute_result",
          "data": {
            "text/plain": [
              "{3.1415926, False, 'String'}"
            ]
          },
          "metadata": {
            "tags": []
          },
          "execution_count": 13
        }
      ]
    },
    {
      "metadata": {
        "id": "LGbuLXTrBuSn",
        "colab_type": "text"
      },
      "cell_type": "markdown",
      "source": [
        "讲到这里，再介绍两个快速建立set和快速清空set的方法："
      ]
    },
    {
      "metadata": {
        "id": "GhBWHP5tB86Y",
        "colab_type": "code",
        "colab": {
          "base_uri": "https://localhost:8080/",
          "height": 34
        },
        "outputId": "5be64e6f-8007-4a75-b83d-98040820a8e5"
      },
      "cell_type": "code",
      "source": [
        "example2 = set([23,34.23,'string2',True])\n",
        "len(example2)"
      ],
      "execution_count": 14,
      "outputs": [
        {
          "output_type": "execute_result",
          "data": {
            "text/plain": [
              "4"
            ]
          },
          "metadata": {
            "tags": []
          },
          "execution_count": 14
        }
      ]
    },
    {
      "metadata": {
        "id": "XymhWB7ICQAk",
        "colab_type": "code",
        "colab": {
          "base_uri": "https://localhost:8080/",
          "height": 34
        },
        "outputId": "7bc8d86b-cdf9-4a0d-c880-9a0c51163774"
      },
      "cell_type": "code",
      "source": [
        "example2.clear()\n",
        "len(example2)"
      ],
      "execution_count": 15,
      "outputs": [
        {
          "output_type": "execute_result",
          "data": {
            "text/plain": [
              "0"
            ]
          },
          "metadata": {
            "tags": []
          },
          "execution_count": 15
        }
      ]
    },
    {
      "metadata": {
        "id": "5inFGO04CVCe",
        "colab_type": "text"
      },
      "cell_type": "markdown",
      "source": [
        "到此讲完set增加和删除的全部函数，下面讲一下对set并集[union]交集[intersection]的操作："
      ]
    },
    {
      "metadata": {
        "id": "dx0PgjnrC3Je",
        "colab_type": "code",
        "colab": {
          "base_uri": "https://localhost:8080/",
          "height": 34
        },
        "outputId": "0d8404ec-50f4-44af-94ad-5cf1aaf794c8"
      },
      "cell_type": "code",
      "source": [
        "# Integers 1 - 10\n",
        "\n",
        "odds = set([1,3,5,7,9])\n",
        "evens = set([2,4,6,8,10])\n",
        "primes = set([2,3,5,7])\n",
        "composites = set([4,6,8,9,10])\n",
        "\n",
        "odds.union(evens)"
      ],
      "execution_count": 17,
      "outputs": [
        {
          "output_type": "execute_result",
          "data": {
            "text/plain": [
              "{1, 2, 3, 4, 5, 6, 7, 8, 9, 10}"
            ]
          },
          "metadata": {
            "tags": []
          },
          "execution_count": 17
        }
      ]
    },
    {
      "metadata": {
        "id": "p12rl8n4Drso",
        "colab_type": "code",
        "colab": {
          "base_uri": "https://localhost:8080/",
          "height": 34
        },
        "outputId": "bb48a7a9-9d10-41fa-85c1-e83d1de275c8"
      },
      "cell_type": "code",
      "source": [
        "evens.union(odds)"
      ],
      "execution_count": 18,
      "outputs": [
        {
          "output_type": "execute_result",
          "data": {
            "text/plain": [
              "{1, 2, 3, 4, 5, 6, 7, 8, 9, 10}"
            ]
          },
          "metadata": {
            "tags": []
          },
          "execution_count": 18
        }
      ]
    },
    {
      "metadata": {
        "id": "qQ-NzEpgDzFN",
        "colab_type": "code",
        "colab": {
          "base_uri": "https://localhost:8080/",
          "height": 34
        },
        "outputId": "d38f4778-e133-4cc3-bf92-14210ccd0bf0"
      },
      "cell_type": "code",
      "source": [
        "odds # unchanged"
      ],
      "execution_count": 19,
      "outputs": [
        {
          "output_type": "execute_result",
          "data": {
            "text/plain": [
              "{1, 3, 5, 7, 9}"
            ]
          },
          "metadata": {
            "tags": []
          },
          "execution_count": 19
        }
      ]
    },
    {
      "metadata": {
        "id": "PmImcQKwD14L",
        "colab_type": "code",
        "colab": {
          "base_uri": "https://localhost:8080/",
          "height": 34
        },
        "outputId": "344b992f-1bf0-4b66-adbc-aed9e9ff9c3e"
      },
      "cell_type": "code",
      "source": [
        "evens # unchanged"
      ],
      "execution_count": 20,
      "outputs": [
        {
          "output_type": "execute_result",
          "data": {
            "text/plain": [
              "{2, 4, 6, 8, 10}"
            ]
          },
          "metadata": {
            "tags": []
          },
          "execution_count": 20
        }
      ]
    },
    {
      "metadata": {
        "id": "q9jjSBd9EEbO",
        "colab_type": "code",
        "colab": {
          "base_uri": "https://localhost:8080/",
          "height": 34
        },
        "outputId": "d527f730-e9d7-4f56-f31f-92b27371561a"
      },
      "cell_type": "code",
      "source": [
        "odds.intersection(primes)"
      ],
      "execution_count": 21,
      "outputs": [
        {
          "output_type": "execute_result",
          "data": {
            "text/plain": [
              "{3, 5, 7}"
            ]
          },
          "metadata": {
            "tags": []
          },
          "execution_count": 21
        }
      ]
    },
    {
      "metadata": {
        "id": "7ntfnvrKEODp",
        "colab_type": "code",
        "colab": {
          "base_uri": "https://localhost:8080/",
          "height": 34
        },
        "outputId": "27e2fde6-9769-49dd-f34c-1b3adebf8fab"
      },
      "cell_type": "code",
      "source": [
        "primes.intersection(evens)"
      ],
      "execution_count": 22,
      "outputs": [
        {
          "output_type": "execute_result",
          "data": {
            "text/plain": [
              "{2}"
            ]
          },
          "metadata": {
            "tags": []
          },
          "execution_count": 22
        }
      ]
    },
    {
      "metadata": {
        "id": "ODbH44ibEXsp",
        "colab_type": "code",
        "colab": {
          "base_uri": "https://localhost:8080/",
          "height": 34
        },
        "outputId": "32b91290-d27f-4a50-d723-481165b88093"
      },
      "cell_type": "code",
      "source": [
        "odds.intersection(evens) # 空"
      ],
      "execution_count": 23,
      "outputs": [
        {
          "output_type": "execute_result",
          "data": {
            "text/plain": [
              "set()"
            ]
          },
          "metadata": {
            "tags": []
          },
          "execution_count": 23
        }
      ]
    },
    {
      "metadata": {
        "id": "-Vvi6dkHEqge",
        "colab_type": "text"
      },
      "cell_type": "markdown",
      "source": [
        "以上就是并集交集的操作，那么如何去判断一个变量是否在set中呢，这个在循环中是经常用到的，python中使用的 in 和 not in ："
      ]
    },
    {
      "metadata": {
        "id": "MTxhAGWgE9Az",
        "colab_type": "code",
        "colab": {
          "base_uri": "https://localhost:8080/",
          "height": 34
        },
        "outputId": "c8b4fbc8-b6da-4cf7-e2ab-11a229d747f5"
      },
      "cell_type": "code",
      "source": [
        "2 in primes"
      ],
      "execution_count": 24,
      "outputs": [
        {
          "output_type": "execute_result",
          "data": {
            "text/plain": [
              "True"
            ]
          },
          "metadata": {
            "tags": []
          },
          "execution_count": 24
        }
      ]
    },
    {
      "metadata": {
        "id": "xfMZm3pHFKeK",
        "colab_type": "code",
        "colab": {
          "base_uri": "https://localhost:8080/",
          "height": 34
        },
        "outputId": "eeb8115c-709f-4037-dde7-ad2902f1f92b"
      },
      "cell_type": "code",
      "source": [
        "6 not in evens"
      ],
      "execution_count": 26,
      "outputs": [
        {
          "output_type": "execute_result",
          "data": {
            "text/plain": [
              "False"
            ]
          },
          "metadata": {
            "tags": []
          },
          "execution_count": 26
        }
      ]
    },
    {
      "metadata": {
        "id": "sCGIhOy7FWGM",
        "colab_type": "text"
      },
      "cell_type": "markdown",
      "source": [
        "当然，除了以上操作，还有很多需要去发现，用dir()、help() 去探索吧。"
      ]
    }
  ]
}