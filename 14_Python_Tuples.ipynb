{
  "nbformat": 4,
  "nbformat_minor": 0,
  "metadata": {
    "colab": {
      "name": "14_Python_Tuples.ipynb",
      "version": "0.3.2",
      "provenance": [],
      "collapsed_sections": []
    },
    "kernelspec": {
      "name": "python3",
      "display_name": "Python 3"
    }
  },
  "cells": [
    {
      "metadata": {
        "id": "e3ChGFIwSXr-",
        "colab_type": "text"
      },
      "cell_type": "markdown",
      "source": [
        "# Introduction\n",
        "不是所有的数据都能以pile的形式存储，一般情况下，把数据存储成序列更有用。Python提供了几种处理序列的方式，list就是其中一个常见方法，但是tuple是一种更小更快存储方法。那么，list和tuple有那些不同呢？开始做实验吧。"
      ]
    },
    {
      "metadata": {
        "id": "czx1gN8JrWKE",
        "colab_type": "text"
      },
      "cell_type": "markdown",
      "source": [
        "# Difference between List and Tuple\n",
        "第一个小不同，list用方括号定义，而tuple用圆括号定义。"
      ]
    },
    {
      "metadata": {
        "id": "pPjdSJ6mqTm7",
        "colab_type": "code",
        "outputId": "4723f78d-1151-4882-8b77-dd3c7449036f",
        "colab": {
          "base_uri": "https://localhost:8080/",
          "height": 51
        }
      },
      "cell_type": "code",
      "source": [
        "# List example\n",
        "prime_numbers = [2,3,5,7,11,13,17]\n",
        "\n",
        "# Tuple example\n",
        "perfect_squares = (1,4,9,16,25,36) # first difference: [],()\n",
        "\n",
        "# Display length\n",
        "print(\"# Primes = \", len(prime_numbers))\n",
        "print(\"# Squares = \", len(perfect_squares))"
      ],
      "execution_count": 2,
      "outputs": [
        {
          "output_type": "stream",
          "text": [
            "# Primes =  7\n",
            "# Squares =  6\n"
          ],
          "name": "stdout"
        }
      ]
    },
    {
      "metadata": {
        "id": "QTv_b2KwrooA",
        "colab_type": "text"
      },
      "cell_type": "markdown",
      "source": [
        "我们现在试着打印了list和tuple的序列长度，暂时是没有区别的。下面把元素都打印出来试试。"
      ]
    },
    {
      "metadata": {
        "id": "bbOB6kmzrx83",
        "colab_type": "code",
        "colab": {
          "base_uri": "https://localhost:8080/",
          "height": 238
        },
        "outputId": "96960d99-ee89-477c-8970-a26764197fc6"
      },
      "cell_type": "code",
      "source": [
        "# Iterate over both sequences\n",
        "for p in prime_numbers:\n",
        "    print(\"Prime: \", p)\n",
        "    \n",
        "for n in perfect_squares:\n",
        "    print(\"Squares: \", n)"
      ],
      "execution_count": 3,
      "outputs": [
        {
          "output_type": "stream",
          "text": [
            "Prime:  2\n",
            "Prime:  3\n",
            "Prime:  5\n",
            "Prime:  7\n",
            "Prime:  11\n",
            "Prime:  13\n",
            "Prime:  17\n",
            "Squares:  1\n",
            "Squares:  4\n",
            "Squares:  9\n",
            "Squares:  16\n",
            "Squares:  25\n",
            "Squares:  36\n"
          ],
          "name": "stdout"
        }
      ]
    },
    {
      "metadata": {
        "id": "vlg3fKPctd53",
        "colab_type": "text"
      },
      "cell_type": "markdown",
      "source": [
        "到目前为止，还是看不出来有什么不同。那么我们试着把适用于两个数据结构的内建方法打印出来看看。"
      ]
    },
    {
      "metadata": {
        "id": "erplTOkst_nH",
        "colab_type": "code",
        "colab": {
          "base_uri": "https://localhost:8080/",
          "height": 122
        },
        "outputId": "6848f5c1-1362-4c1f-de81-63ee0f1a007d"
      },
      "cell_type": "code",
      "source": [
        "print(\"List methods\")\n",
        "print(dir(prime_numbers))\n",
        "print(80*\"_\")\n",
        "print(\"Tuple methods\")\n",
        "print(dir(perfect_squares))"
      ],
      "execution_count": 4,
      "outputs": [
        {
          "output_type": "stream",
          "text": [
            "List methods\n",
            "['__add__', '__class__', '__contains__', '__delattr__', '__delitem__', '__dir__', '__doc__', '__eq__', '__format__', '__ge__', '__getattribute__', '__getitem__', '__gt__', '__hash__', '__iadd__', '__imul__', '__init__', '__init_subclass__', '__iter__', '__le__', '__len__', '__lt__', '__mul__', '__ne__', '__new__', '__reduce__', '__reduce_ex__', '__repr__', '__reversed__', '__rmul__', '__setattr__', '__setitem__', '__sizeof__', '__str__', '__subclasshook__', 'append', 'clear', 'copy', 'count', 'extend', 'index', 'insert', 'pop', 'remove', 'reverse', 'sort']\n",
            "________________________________________________________________________________\n",
            "Tuple methods\n",
            "['__add__', '__class__', '__contains__', '__delattr__', '__dir__', '__doc__', '__eq__', '__format__', '__ge__', '__getattribute__', '__getitem__', '__getnewargs__', '__gt__', '__hash__', '__init__', '__init_subclass__', '__iter__', '__le__', '__len__', '__lt__', '__mul__', '__ne__', '__new__', '__reduce__', '__reduce_ex__', '__repr__', '__rmul__', '__setattr__', '__sizeof__', '__str__', '__subclasshook__', 'count', 'index']\n"
          ],
          "name": "stdout"
        }
      ]
    },
    {
      "metadata": {
        "id": "ZwX6hIv0unLE",
        "colab_type": "text"
      },
      "cell_type": "markdown",
      "source": [
        "可以发现，List有'append', 'clear', 'copy', 'count', 'extend', 'index', 'insert', 'pop', 'remove', 'reverse', 'sort'这些方法，而Tuple只有'count', 'index'。这也就意味着List比Tuple要占用更多的存储空间。"
      ]
    },
    {
      "metadata": {
        "id": "pdGFoj1JvLyA",
        "colab_type": "code",
        "colab": {
          "base_uri": "https://localhost:8080/",
          "height": 51
        },
        "outputId": "ab0294e0-9c44-4d85-b3a9-57764afe033a"
      },
      "cell_type": "code",
      "source": [
        "# utilize sys.getsizeof to get the memery\n",
        "import sys\n",
        "\n",
        "list_eg = [1,2,3,'a','b','c',True,3.1415]\n",
        "tuple_eg = (1,2,3,'a','b','c',True,3.1415)\n",
        "\n",
        "print(\"list size = \", sys.getsizeof(list_eg))\n",
        "print(\"tuple_size = \", sys.getsizeof(tuple_eg))"
      ],
      "execution_count": 5,
      "outputs": [
        {
          "output_type": "stream",
          "text": [
            "list size =  128\n",
            "tuple_size =  112\n"
          ],
          "name": "stdout"
        }
      ]
    },
    {
      "metadata": {
        "id": "MlWnd5IQwI0B",
        "colab_type": "text"
      },
      "cell_type": "markdown",
      "source": [
        "终于可以看到他们之间的区别了，这一点在数据量很大的时候就显而易见了，Tuple更适合规模大且只需要简单操作存储的数据。"
      ]
    },
    {
      "metadata": {
        "id": "Ba_XtHW3wiqb",
        "colab_type": "text"
      },
      "cell_type": "markdown",
      "source": [
        "当然，从内建函数中也可以得到，List可以增删改，但是Tuple是不能变的，也可以称之为immutable。Python对牺牲了Tuple的功能，赋予它更快的速度。"
      ]
    },
    {
      "metadata": {
        "id": "dyeO7V_NxMW1",
        "colab_type": "code",
        "colab": {
          "base_uri": "https://localhost:8080/",
          "height": 51
        },
        "outputId": "1de26b82-bbe3-4b1c-b5b8-46b3bf2a0cc0"
      },
      "cell_type": "code",
      "source": [
        "# utilize timeit to test the speed\n",
        "import timeit\n",
        "\n",
        "list_test = timeit.timeit(stmt=\"[1,2,3,4,5]\",\n",
        "                         number=1000000)\n",
        "tuple_test = timeit.timeit(stmt=\"(1,2,3,4,5)\",\n",
        "                          number=1000000)\n",
        "\n",
        "print(\"List time : \", list_test)\n",
        "print(\"Tuple time :\", tuple_test)"
      ],
      "execution_count": 6,
      "outputs": [
        {
          "output_type": "stream",
          "text": [
            "List time :  0.12573448600005577\n",
            "Tuple time : 0.02030748099991797\n"
          ],
          "name": "stdout"
        }
      ]
    },
    {
      "metadata": {
        "id": "m-Aw4aQEyPwG",
        "colab_type": "text"
      },
      "cell_type": "markdown",
      "source": [
        "从这个小实验中可以得到，Tuple在速度方面的优势还是很明显的。"
      ]
    },
    {
      "metadata": {
        "id": "D_fQgc76ywuj",
        "colab_type": "text"
      },
      "cell_type": "markdown",
      "source": [
        "# Experiment on Tuple"
      ]
    },
    {
      "metadata": {
        "id": "JNtZsjxhypT9",
        "colab_type": "code",
        "colab": {
          "base_uri": "https://localhost:8080/",
          "height": 85
        },
        "outputId": "30431785-68d8-4b92-bbb9-9fcf1239a930"
      },
      "cell_type": "code",
      "source": [
        "empty_tuple = ()\n",
        "test1 = (\"a\")\n",
        "test2 = (\"a\", \"b\")\n",
        "test3 = (\"a\", \"b\", \"c\")\n",
        "\n",
        "print(empty_tuple)\n",
        "print(test1)\n",
        "print(test2)\n",
        "print(test3)"
      ],
      "execution_count": 7,
      "outputs": [
        {
          "output_type": "stream",
          "text": [
            "()\n",
            "a\n",
            "('a', 'b')\n",
            "('a', 'b', 'c')\n"
          ],
          "name": "stdout"
        }
      ]
    },
    {
      "metadata": {
        "id": "zLuO2LJGzM-t",
        "colab_type": "text"
      },
      "cell_type": "markdown",
      "source": [
        "为什么test1打印出来是字符串？而不是和其他一样的tuple格式呢？"
      ]
    },
    {
      "metadata": {
        "id": "A2VG3-Vbze1p",
        "colab_type": "code",
        "colab": {
          "base_uri": "https://localhost:8080/",
          "height": 51
        },
        "outputId": "a6c6b6d5-f9f2-4a29-e7bb-77a4ac41c3ef"
      },
      "cell_type": "code",
      "source": [
        "print(type(test1))\n",
        "print(type(test2))"
      ],
      "execution_count": 10,
      "outputs": [
        {
          "output_type": "stream",
          "text": [
            "<class 'str'>\n",
            "<class 'tuple'>\n"
          ],
          "name": "stdout"
        }
      ]
    },
    {
      "metadata": {
        "id": "rasF5cVbzrWf",
        "colab_type": "text"
      },
      "cell_type": "markdown",
      "source": [
        "果然是字符串，原因在于当只有一个元素时，需要以逗号结尾。"
      ]
    },
    {
      "metadata": {
        "id": "wkh3Dkoyz97U",
        "colab_type": "code",
        "colab": {
          "base_uri": "https://localhost:8080/",
          "height": 34
        },
        "outputId": "6639f158-1ad2-4b90-caa8-700eea6390f5"
      },
      "cell_type": "code",
      "source": [
        "test1 = (\"a\",)\n",
        "print(test1)"
      ],
      "execution_count": 11,
      "outputs": [
        {
          "output_type": "stream",
          "text": [
            "('a',)\n"
          ],
          "name": "stdout"
        }
      ]
    },
    {
      "metadata": {
        "id": "hIvcPsI70P6b",
        "colab_type": "text"
      },
      "cell_type": "markdown",
      "source": [
        "# Alternative Construction of Tuple"
      ]
    },
    {
      "metadata": {
        "id": "m2XiNuQF0gLX",
        "colab_type": "code",
        "colab": {
          "base_uri": "https://localhost:8080/",
          "height": 119
        },
        "outputId": "999da493-19a0-4219-be2d-ba2424ab0bfc"
      },
      "cell_type": "code",
      "source": [
        "# another way\n",
        "test1 = 1,\n",
        "test2 = 1,2\n",
        "test3 = 1,2,3\n",
        "\n",
        "print(test1)\n",
        "print(test2)\n",
        "print(test3)\n",
        "\n",
        "print(type(test1))\n",
        "print(type(test2))\n",
        "print(type(test3))"
      ],
      "execution_count": 12,
      "outputs": [
        {
          "output_type": "stream",
          "text": [
            "(1,)\n",
            "(1, 2)\n",
            "(1, 2, 3)\n",
            "<class 'tuple'>\n",
            "<class 'tuple'>\n",
            "<class 'tuple'>\n"
          ],
          "name": "stdout"
        }
      ]
    },
    {
      "metadata": {
        "id": "sfPwRMRN1CAK",
        "colab_type": "text"
      },
      "cell_type": "markdown",
      "source": [
        "# Tuple Assignment"
      ]
    },
    {
      "metadata": {
        "id": "-dMNrnKQ1JEV",
        "colab_type": "code",
        "colab": {
          "base_uri": "https://localhost:8080/",
          "height": 68
        },
        "outputId": "17487c89-4e9b-425f-b297-70fe8a74cbf2"
      },
      "cell_type": "code",
      "source": [
        "# (age, country, know_python)\n",
        "survey = (23, \"China\", True)\n",
        "\n",
        "age = survey[0]\n",
        "country = survey[1]\n",
        "know_python = survey[2]\n",
        "\n",
        "print(\"Age = \",age)\n",
        "print(\"Country = \",country)\n",
        "print(\"Know Python? \", know_python)"
      ],
      "execution_count": 14,
      "outputs": [
        {
          "output_type": "stream",
          "text": [
            "Age =  23\n",
            "Country =  China\n",
            "Know Python?  True\n"
          ],
          "name": "stdout"
        }
      ]
    },
    {
      "metadata": {
        "id": "YoM74XFj2lNV",
        "colab_type": "text"
      },
      "cell_type": "markdown",
      "source": [
        "用List同样的方式提取tuple中的元素是有效的，但是tuple提供了更高效的方法。"
      ]
    },
    {
      "metadata": {
        "id": "jXnaGoS02z_V",
        "colab_type": "code",
        "colab": {
          "base_uri": "https://localhost:8080/",
          "height": 68
        },
        "outputId": "2e8075ff-9742-4e89-aa93-9f5687f809ff"
      },
      "cell_type": "code",
      "source": [
        "survey2 = (24, \"America\", True)\n",
        "age, country, know_python = survey2\n",
        "\n",
        "print(\"Age = \",age)\n",
        "print(\"Country = \",country)\n",
        "print(\"Know Python? \", know_python)"
      ],
      "execution_count": 15,
      "outputs": [
        {
          "output_type": "stream",
          "text": [
            "Age =  24\n",
            "Country =  America\n",
            "Know Python?  True\n"
          ],
          "name": "stdout"
        }
      ]
    },
    {
      "metadata": {
        "id": "ZKUoF4Se3elw",
        "colab_type": "text"
      },
      "cell_type": "markdown",
      "source": [
        "同时也要注意一个错误，这种方式去提取tuple中的元素，一定要一一对应，举个例子："
      ]
    },
    {
      "metadata": {
        "id": "5NvM_q5z3q8P",
        "colab_type": "code",
        "colab": {
          "base_uri": "https://localhost:8080/",
          "height": 168
        },
        "outputId": "a751c25a-203f-436b-de15-279b97b4df19"
      },
      "cell_type": "code",
      "source": [
        "x,y,z = (1,2)"
      ],
      "execution_count": 16,
      "outputs": [
        {
          "output_type": "error",
          "ename": "ValueError",
          "evalue": "ignored",
          "traceback": [
            "\u001b[0;31m---------------------------------------------------------------------------\u001b[0m",
            "\u001b[0;31mValueError\u001b[0m                                Traceback (most recent call last)",
            "\u001b[0;32m<ipython-input-16-6f419fd02ba5>\u001b[0m in \u001b[0;36m<module>\u001b[0;34m()\u001b[0m\n\u001b[0;32m----> 1\u001b[0;31m \u001b[0mx\u001b[0m\u001b[0;34m,\u001b[0m\u001b[0my\u001b[0m\u001b[0;34m,\u001b[0m\u001b[0mz\u001b[0m \u001b[0;34m=\u001b[0m \u001b[0;34m(\u001b[0m\u001b[0;36m1\u001b[0m\u001b[0;34m,\u001b[0m\u001b[0;36m2\u001b[0m\u001b[0;34m)\u001b[0m\u001b[0;34m\u001b[0m\u001b[0;34m\u001b[0m\u001b[0m\n\u001b[0m",
            "\u001b[0;31mValueError\u001b[0m: not enough values to unpack (expected 3, got 2)"
          ]
        }
      ]
    },
    {
      "metadata": {
        "id": "McgtC_nD3v7Q",
        "colab_type": "code",
        "colab": {
          "base_uri": "https://localhost:8080/",
          "height": 168
        },
        "outputId": "d11279ba-b966-4ee7-d10b-450b73a68279"
      },
      "cell_type": "code",
      "source": [
        "a,b,c = (1,2,3,4)"
      ],
      "execution_count": 17,
      "outputs": [
        {
          "output_type": "error",
          "ename": "ValueError",
          "evalue": "ignored",
          "traceback": [
            "\u001b[0;31m---------------------------------------------------------------------------\u001b[0m",
            "\u001b[0;31mValueError\u001b[0m                                Traceback (most recent call last)",
            "\u001b[0;32m<ipython-input-17-2e0282f2aef3>\u001b[0m in \u001b[0;36m<module>\u001b[0;34m()\u001b[0m\n\u001b[0;32m----> 1\u001b[0;31m \u001b[0ma\u001b[0m\u001b[0;34m,\u001b[0m\u001b[0mb\u001b[0m\u001b[0;34m,\u001b[0m\u001b[0mc\u001b[0m \u001b[0;34m=\u001b[0m \u001b[0;34m(\u001b[0m\u001b[0;36m1\u001b[0m\u001b[0;34m,\u001b[0m\u001b[0;36m2\u001b[0m\u001b[0;34m,\u001b[0m\u001b[0;36m3\u001b[0m\u001b[0;34m,\u001b[0m\u001b[0;36m4\u001b[0m\u001b[0;34m)\u001b[0m\u001b[0;34m\u001b[0m\u001b[0;34m\u001b[0m\u001b[0m\n\u001b[0m",
            "\u001b[0;31mValueError\u001b[0m: too many values to unpack (expected 3)"
          ]
        }
      ]
    },
    {
      "metadata": {
        "id": "fp6rTD0A39VY",
        "colab_type": "text"
      },
      "cell_type": "markdown",
      "source": [
        "# Conclusion\n",
        "以上就是Tuple的内容，与List相比，构建速度很快。需要注意的是如果只有一个元素，要记得以逗号结尾。在用tuple特有的方式提取元素是，注意一一对应，不能多也不能少。总的来说，Tuple是有它的优势的，考虑代码的质量是需要考虑考虑它与List谁更适合自己的子模块。"
      ]
    }
  ]
}