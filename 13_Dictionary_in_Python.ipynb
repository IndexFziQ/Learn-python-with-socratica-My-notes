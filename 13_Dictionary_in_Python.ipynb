{
  "nbformat": 4,
  "nbformat_minor": 0,
  "metadata": {
    "colab": {
      "name": "13_Dictionary_in_Python.ipynb",
      "version": "0.3.2",
      "provenance": [],
      "collapsed_sections": []
    },
    "kernelspec": {
      "name": "python3",
      "display_name": "Python 3"
    }
  },
  "cells": [
    {
      "metadata": {
        "id": "Wdp795ZL_aSf",
        "colab_type": "text"
      },
      "cell_type": "markdown",
      "source": [
        "## Introduction"
      ]
    },
    {
      "metadata": {
        "id": "PG-5rXnqUA6N",
        "colab_type": "text"
      },
      "cell_type": "markdown",
      "source": [
        "在计算机科学中，有一种数据结构叫关联数组（associative array），也就做映射（map）。在python中，这个数据结构被定义为字典（dictionary）。当你的数据需要以key-value（key:input -map-> value:output）的格式处理时，就需要字典。"
      ]
    },
    {
      "metadata": {
        "id": "27JSNAKUTo8r",
        "colab_type": "text"
      },
      "cell_type": "markdown",
      "source": [
        "## Create a New Dictionary"
      ]
    },
    {
      "metadata": {
        "id": "461OBxzjCgvX",
        "colab_type": "text"
      },
      "cell_type": "markdown",
      "source": [
        "假设我们要建立一个新的社交网站，叫做FriendFace。我们要为每一个注册的新用户收集相关的信息，包括用户名、简介、语言、注册时间和地理位置。那么这样的数据该怎么用python处理呢？"
      ]
    },
    {
      "metadata": {
        "id": "pybCxOvPDN01",
        "colab_type": "code",
        "colab": {}
      },
      "cell_type": "code",
      "source": [
        "# FriendFace Post\n",
        "# User_id = 209\n",
        "# message = \"D5 E4 F4 C5 G3\"\n",
        "# language = \"English\"\n",
        "# datetime = \"20181212\"\n",
        "# location = (44.590533,-104.715566)\n",
        "\n",
        "# we can use a single object to store all of this date\n",
        "post = {\"user_id\":209, \"message\":\"D5 E4 F4 C5 G3\", \"language\":\"English\", \"datetime\":\"20181212\", \"location\":(44.590533,-104.715566)} # format:{\"key\":\"value\"...}"
      ],
      "execution_count": 0,
      "outputs": []
    },
    {
      "metadata": {
        "id": "iLEBkQkaFCo_",
        "colab_type": "text"
      },
      "cell_type": "markdown",
      "source": [
        "我们现在创建了一个包含五个键值对（映射关系）的字典。如果你把它当作映射图，那么也就对应五个输入（key），五个输出（output）。需要注意的是，键和值的数据类型可以是所有的数据类型或者tuple等。"
      ]
    },
    {
      "metadata": {
        "id": "dqr0wQFDGOQJ",
        "colab_type": "code",
        "colab": {
          "base_uri": "https://localhost:8080/",
          "height": 34
        },
        "outputId": "13507eb2-0d4c-4680-8388-7280acd3c9be"
      },
      "cell_type": "code",
      "source": [
        "type(post) \n",
        "# if you use the type function, you will find post belongs to \"dict\""
      ],
      "execution_count": 2,
      "outputs": [
        {
          "output_type": "execute_result",
          "data": {
            "text/plain": [
              "dict"
            ]
          },
          "metadata": {
            "tags": []
          },
          "execution_count": 2
        }
      ]
    },
    {
      "metadata": {
        "id": "ftHUJtt3Qydh",
        "colab_type": "text"
      },
      "cell_type": "markdown",
      "source": [
        "这就意味着，我们可以用dict构造字典，注意本节都使用的是python3。接下来，我们使用dict去构造另一个FriendFace的post信息："
      ]
    },
    {
      "metadata": {
        "id": "YHytt1-GRc3d",
        "colab_type": "code",
        "colab": {
          "base_uri": "https://localhost:8080/",
          "height": 34
        },
        "outputId": "aa7d051a-84fa-43a6-9d07-2da4538d63c7"
      },
      "cell_type": "code",
      "source": [
        "# This time, we use dict.\n",
        "post2 = dict(message=\"SS Cotopaxi\", language=\"English\")\n",
        "\n",
        "# We can see this made a dictionary\n",
        "print(post2)"
      ],
      "execution_count": 3,
      "outputs": [
        {
          "output_type": "stream",
          "text": [
            "{'message': 'SS Cotopaxi', 'language': 'English'}\n"
          ],
          "name": "stdout"
        }
      ]
    },
    {
      "metadata": {
        "id": "rUxwrDsMSDt4",
        "colab_type": "code",
        "colab": {
          "base_uri": "https://localhost:8080/",
          "height": 34
        },
        "outputId": "bd4e3fbf-a2ae-4cd5-8f3a-451128e0dc7f"
      },
      "cell_type": "code",
      "source": [
        "# We add additional pieces of data by using brackets.\n",
        "post2[\"user_id\"] = 209\n",
        "post2[\"datetime\"] = \"20181213\"\n",
        "print(post2)"
      ],
      "execution_count": 4,
      "outputs": [
        {
          "output_type": "stream",
          "text": [
            "{'message': 'SS Cotopaxi', 'language': 'English', 'user_id': 209, 'datetime': '20181213'}\n"
          ],
          "name": "stdout"
        }
      ]
    },
    {
      "metadata": {
        "id": "y5EaSy3USnKu",
        "colab_type": "text"
      },
      "cell_type": "markdown",
      "source": [
        "从这个实验，我们可以看到两种给字典加信息的方式：第一种方式，对键值不需要引号；第二种方式，使用括号和引号来定义。"
      ]
    },
    {
      "metadata": {
        "id": "m2HNEVJATeJb",
        "colab_type": "text"
      },
      "cell_type": "markdown",
      "source": [
        "## Accessing Data in Dictionaries"
      ]
    },
    {
      "metadata": {
        "id": "u5fd8XvqT0v7",
        "colab_type": "code",
        "colab": {
          "base_uri": "https://localhost:8080/",
          "height": 34
        },
        "outputId": "5f3df59e-7109-46bf-876f-83c45dd11d1e"
      },
      "cell_type": "code",
      "source": [
        "# To see the message from the first post, use the key name \"message\"\n",
        "print(post[\"message\"])"
      ],
      "execution_count": 5,
      "outputs": [
        {
          "output_type": "stream",
          "text": [
            "D5 E4 F4 C5 G3\n"
          ],
          "name": "stdout"
        }
      ]
    },
    {
      "metadata": {
        "id": "PtCyXZwsUdpm",
        "colab_type": "code",
        "colab": {
          "base_uri": "https://localhost:8080/",
          "height": 168
        },
        "outputId": "deb211a6-698f-47a1-88ea-a46a8c864348"
      },
      "cell_type": "code",
      "source": [
        "# Try to get a info. which is not included by post2\n",
        "print(post2['location'])"
      ],
      "execution_count": 6,
      "outputs": [
        {
          "output_type": "error",
          "ename": "KeyError",
          "evalue": "ignored",
          "traceback": [
            "\u001b[0;31m---------------------------------------------------------------------------\u001b[0m",
            "\u001b[0;31mKeyError\u001b[0m                                  Traceback (most recent call last)",
            "\u001b[0;32m<ipython-input-6-840c4f5feede>\u001b[0m in \u001b[0;36m<module>\u001b[0;34m()\u001b[0m\n\u001b[0;32m----> 1\u001b[0;31m \u001b[0mprint\u001b[0m\u001b[0;34m(\u001b[0m\u001b[0mpost2\u001b[0m\u001b[0;34m[\u001b[0m\u001b[0;34m'location'\u001b[0m\u001b[0;34m]\u001b[0m\u001b[0;34m)\u001b[0m\u001b[0;34m\u001b[0m\u001b[0;34m\u001b[0m\u001b[0m\n\u001b[0m",
            "\u001b[0;31mKeyError\u001b[0m: 'location'"
          ]
        }
      ]
    },
    {
      "metadata": {
        "id": "bVcZW0kfUxWr",
        "colab_type": "text"
      },
      "cell_type": "markdown",
      "source": [
        "我们会发现，location这个键在post2中没有被定义，这样去找就会出错。那么，怎么去避免这种情况发生呢？【Tips：单引号或者双引号都可以。】我们提供两种方式："
      ]
    },
    {
      "metadata": {
        "id": "k02LWweDVYuP",
        "colab_type": "code",
        "colab": {
          "base_uri": "https://localhost:8080/",
          "height": 34
        },
        "outputId": "f00347a1-28c3-44e7-8d29-983852e2ca93"
      },
      "cell_type": "code",
      "source": [
        "# First, to check if the key is in the dictionary\n",
        "if \"location\" in post2:\n",
        "    print(post2['location'])\n",
        "else:\n",
        "    print(\"The post does not contain a location value.\")"
      ],
      "execution_count": 7,
      "outputs": [
        {
          "output_type": "stream",
          "text": [
            "The post does not contain a location value.\n"
          ],
          "name": "stdout"
        }
      ]
    },
    {
      "metadata": {
        "id": "zF1mZpCNWEy6",
        "colab_type": "code",
        "colab": {
          "base_uri": "https://localhost:8080/",
          "height": 34
        },
        "outputId": "77a07d90-3a9e-4366-93ae-c552263ca8ae"
      },
      "cell_type": "code",
      "source": [
        "# Second, try and retrieve the value, but handle the possibility of a KeyError\n",
        "try:\n",
        "    print(post2['location'])\n",
        "except KeyError:\n",
        "    print(\"The post does not contain a location value.\")"
      ],
      "execution_count": 9,
      "outputs": [
        {
          "output_type": "stream",
          "text": [
            "The post does not contain a location value.\n"
          ],
          "name": "stdout"
        }
      ]
    },
    {
      "metadata": {
        "id": "Q60tGWe9WwaR",
        "colab_type": "text"
      },
      "cell_type": "markdown",
      "source": [
        "还有一种方式去获取字典中的数据，我们用dir()，help()去寻找吧："
      ]
    },
    {
      "metadata": {
        "id": "im0luRqmXA9R",
        "colab_type": "code",
        "colab": {
          "base_uri": "https://localhost:8080/",
          "height": 697
        },
        "outputId": "c6903e5d-66f2-421c-a37a-783e79e133ca"
      },
      "cell_type": "code",
      "source": [
        "dir(post2)"
      ],
      "execution_count": 10,
      "outputs": [
        {
          "output_type": "execute_result",
          "data": {
            "text/plain": [
              "['__class__',\n",
              " '__contains__',\n",
              " '__delattr__',\n",
              " '__delitem__',\n",
              " '__dir__',\n",
              " '__doc__',\n",
              " '__eq__',\n",
              " '__format__',\n",
              " '__ge__',\n",
              " '__getattribute__',\n",
              " '__getitem__',\n",
              " '__gt__',\n",
              " '__hash__',\n",
              " '__init__',\n",
              " '__init_subclass__',\n",
              " '__iter__',\n",
              " '__le__',\n",
              " '__len__',\n",
              " '__lt__',\n",
              " '__ne__',\n",
              " '__new__',\n",
              " '__reduce__',\n",
              " '__reduce_ex__',\n",
              " '__repr__',\n",
              " '__setattr__',\n",
              " '__setitem__',\n",
              " '__sizeof__',\n",
              " '__str__',\n",
              " '__subclasshook__',\n",
              " 'clear',\n",
              " 'copy',\n",
              " 'fromkeys',\n",
              " 'get',\n",
              " 'items',\n",
              " 'keys',\n",
              " 'pop',\n",
              " 'popitem',\n",
              " 'setdefault',\n",
              " 'update',\n",
              " 'values']"
            ]
          },
          "metadata": {
            "tags": []
          },
          "execution_count": 10
        }
      ]
    },
    {
      "metadata": {
        "id": "9IubLHWuXI5o",
        "colab_type": "text"
      },
      "cell_type": "markdown",
      "source": [
        "我们可以找到“get”这个方法，用help()看看它有什么作用："
      ]
    },
    {
      "metadata": {
        "id": "eGbPAJDKXWjF",
        "colab_type": "code",
        "colab": {
          "base_uri": "https://localhost:8080/",
          "height": 102
        },
        "outputId": "a4db0429-d1c9-4aef-a481-b1a16f9a368d"
      },
      "cell_type": "code",
      "source": [
        "help(post2.get)"
      ],
      "execution_count": 11,
      "outputs": [
        {
          "output_type": "stream",
          "text": [
            "Help on built-in function get:\n",
            "\n",
            "get(...) method of builtins.dict instance\n",
            "    D.get(k[,d]) -> D[k] if k in D, else d.  d defaults to None.\n",
            "\n"
          ],
          "name": "stdout"
        }
      ]
    },
    {
      "metadata": {
        "id": "hz7kcTdGXhD9",
        "colab_type": "text"
      },
      "cell_type": "markdown",
      "source": [
        "get() 可以试着去获取对应键的值，如果字典中没有值对应该键，你可以指定一个默认值。下面，我们用该方法去给post2加上location的值。"
      ]
    },
    {
      "metadata": {
        "id": "Xud00pvUYDwf",
        "colab_type": "code",
        "colab": {
          "base_uri": "https://localhost:8080/",
          "height": 34
        },
        "outputId": "b78d17c8-e6da-41ef-9bd5-3502d8763ffb"
      },
      "cell_type": "code",
      "source": [
        "loc = post2.get('location', None)\n",
        "print(loc) "
      ],
      "execution_count": 12,
      "outputs": [
        {
          "output_type": "stream",
          "text": [
            "None\n"
          ],
          "name": "stdout"
        }
      ]
    },
    {
      "metadata": {
        "id": "udUXCHDkYYVW",
        "colab_type": "text"
      },
      "cell_type": "markdown",
      "source": [
        "## Other Operations"
      ]
    },
    {
      "metadata": {
        "id": "u_ofLABwYiHD",
        "colab_type": "text"
      },
      "cell_type": "markdown",
      "source": [
        "回到一开始的post用户信息，一个常见的任务就是把字典中的键值信息列举出来："
      ]
    },
    {
      "metadata": {
        "id": "aiYlFcCRY61o",
        "colab_type": "code",
        "colab": {
          "base_uri": "https://localhost:8080/",
          "height": 34
        },
        "outputId": "1ebbae59-6fbc-4fff-8d98-bd00c3fa240a"
      },
      "cell_type": "code",
      "source": [
        "print(post)"
      ],
      "execution_count": 13,
      "outputs": [
        {
          "output_type": "stream",
          "text": [
            "{'user_id': 209, 'message': 'D5 E4 F4 C5 G3', 'language': 'English', 'datetime': '20181212', 'location': (44.590533, -104.715566)}\n"
          ],
          "name": "stdout"
        }
      ]
    },
    {
      "metadata": {
        "id": "WpEKFv5YZiMu",
        "colab_type": "code",
        "colab": {
          "base_uri": "https://localhost:8080/",
          "height": 102
        },
        "outputId": "09e359f6-897e-48fb-e966-26bfd503a0f2"
      },
      "cell_type": "code",
      "source": [
        "# A common way: loop over all the keys\n",
        "for key in post.keys():\n",
        "    value = post[key]\n",
        "    print(key, \"=\", value)"
      ],
      "execution_count": 14,
      "outputs": [
        {
          "output_type": "stream",
          "text": [
            "user_id = 209\n",
            "message = D5 E4 F4 C5 G3\n",
            "language = English\n",
            "datetime = 20181212\n",
            "location = (44.590533, -104.715566)\n"
          ],
          "name": "stdout"
        }
      ]
    },
    {
      "metadata": {
        "id": "kQLy9BbEaD7W",
        "colab_type": "text"
      },
      "cell_type": "markdown",
      "source": [
        "这里我们使用keys()可以得到字典中所有的键。注意python2中的这部分会有所不同，这是因为python3中print方法更强大了。"
      ]
    },
    {
      "metadata": {
        "id": "MlthzlC0abGp",
        "colab_type": "code",
        "colab": {
          "base_uri": "https://localhost:8080/",
          "height": 102
        },
        "outputId": "c3187863-cb87-4d38-e549-ded58fa29551"
      },
      "cell_type": "code",
      "source": [
        "# Another way\n",
        "for key, value in post.items():\n",
        "    print(key, \"=\", value)"
      ],
      "execution_count": 15,
      "outputs": [
        {
          "output_type": "stream",
          "text": [
            "user_id = 209\n",
            "message = D5 E4 F4 C5 G3\n",
            "language = English\n",
            "datetime = 20181212\n",
            "location = (44.590533, -104.715566)\n"
          ],
          "name": "stdout"
        }
      ]
    },
    {
      "metadata": {
        "id": "sgt-hsNQav_4",
        "colab_type": "text"
      },
      "cell_type": "markdown",
      "source": [
        "items()可以获取字典中所有的键值对。当然，对字典的操作还有很多，比如pop()，popitem()就可以去掉字典中的某个键值对；clear()可以直接清空字典。多试试相关的方法，你会有更多发现。"
      ]
    }
  ]
}