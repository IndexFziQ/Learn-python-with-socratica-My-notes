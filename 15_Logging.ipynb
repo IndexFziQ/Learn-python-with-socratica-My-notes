{
  "nbformat": 4,
  "nbformat_minor": 0,
  "metadata": {
    "colab": {
      "name": "15_Logging.ipynb",
      "version": "0.3.2",
      "provenance": [],
      "collapsed_sections": []
    },
    "kernelspec": {
      "name": "python3",
      "display_name": "Python 3"
    }
  },
  "cells": [
    {
      "cell_type": "markdown",
      "metadata": {
        "id": "BicAGFkNmZu7",
        "colab_type": "text"
      },
      "source": [
        "## Introduction\n",
        "logging就是记录的意思，也就是生成日志的一种方式。在程序运行过程中，logging模块可以记录所有的一切【按需记录】。这对于开发者来说很重要，好的程序是错哪儿都知道直接知道发生什么问题。"
      ]
    },
    {
      "cell_type": "markdown",
      "metadata": {
        "id": "FIRUDna0n-wf",
        "colab_type": "text"
      },
      "source": [
        "## Functions"
      ]
    },
    {
      "cell_type": "markdown",
      "metadata": {
        "id": "jiztKDjZyc7B",
        "colab_type": "text"
      },
      "source": [
        "logging帮助程序员把重要的信息写入文件或者其他形式的输出，这些信息更多的是代码的执行部分和代码的问题。每个logging都有一个等级，一共5个内建的等级，包括：Debug，Info，Warning，Error，critical。开发者也可以自己创建新的等级。"
      ]
    },
    {
      "cell_type": "code",
      "metadata": {
        "id": "Qk5jJw300I8W",
        "colab_type": "code",
        "outputId": "6106fe43-56f2-4f97-a3d5-6f648d212903",
        "colab": {
          "base_uri": "https://localhost:8080/",
          "height": 1717
        }
      },
      "source": [
        "import logging\n",
        "dir(logging)"
      ],
      "execution_count": 0,
      "outputs": [
        {
          "output_type": "execute_result",
          "data": {
            "text/plain": [
              "['BASIC_FORMAT',\n",
              " 'BufferingFormatter',\n",
              " 'CRITICAL',\n",
              " 'DEBUG',\n",
              " 'ERROR',\n",
              " 'FATAL',\n",
              " 'FileHandler',\n",
              " 'Filter',\n",
              " 'Filterer',\n",
              " 'Formatter',\n",
              " 'Handler',\n",
              " 'INFO',\n",
              " 'LogRecord',\n",
              " 'Logger',\n",
              " 'LoggerAdapter',\n",
              " 'Manager',\n",
              " 'NOTSET',\n",
              " 'NullHandler',\n",
              " 'PercentStyle',\n",
              " 'PlaceHolder',\n",
              " 'RootLogger',\n",
              " 'StrFormatStyle',\n",
              " 'StreamHandler',\n",
              " 'StringTemplateStyle',\n",
              " 'Template',\n",
              " 'WARN',\n",
              " 'WARNING',\n",
              " '_STYLES',\n",
              " '_StderrHandler',\n",
              " '__all__',\n",
              " '__author__',\n",
              " '__builtins__',\n",
              " '__cached__',\n",
              " '__date__',\n",
              " '__doc__',\n",
              " '__file__',\n",
              " '__loader__',\n",
              " '__name__',\n",
              " '__package__',\n",
              " '__path__',\n",
              " '__spec__',\n",
              " '__status__',\n",
              " '__version__',\n",
              " '_acquireLock',\n",
              " '_addHandlerRef',\n",
              " '_checkLevel',\n",
              " '_defaultFormatter',\n",
              " '_defaultLastResort',\n",
              " '_handlerList',\n",
              " '_handlers',\n",
              " '_levelToName',\n",
              " '_lock',\n",
              " '_logRecordFactory',\n",
              " '_loggerClass',\n",
              " '_nameToLevel',\n",
              " '_releaseLock',\n",
              " '_removeHandlerRef',\n",
              " '_showwarning',\n",
              " '_srcfile',\n",
              " '_startTime',\n",
              " '_warnings_showwarning',\n",
              " 'addLevelName',\n",
              " 'atexit',\n",
              " 'basicConfig',\n",
              " 'captureWarnings',\n",
              " 'collections',\n",
              " 'critical',\n",
              " 'currentframe',\n",
              " 'debug',\n",
              " 'disable',\n",
              " 'error',\n",
              " 'exception',\n",
              " 'fatal',\n",
              " 'getLevelName',\n",
              " 'getLogRecordFactory',\n",
              " 'getLogger',\n",
              " 'getLoggerClass',\n",
              " 'handlers',\n",
              " 'info',\n",
              " 'io',\n",
              " 'lastResort',\n",
              " 'log',\n",
              " 'logMultiprocessing',\n",
              " 'logProcesses',\n",
              " 'logThreads',\n",
              " 'makeLogRecord',\n",
              " 'os',\n",
              " 'raiseExceptions',\n",
              " 'root',\n",
              " 'setLogRecordFactory',\n",
              " 'setLoggerClass',\n",
              " 'shutdown',\n",
              " 'sys',\n",
              " 'threading',\n",
              " 'time',\n",
              " 'traceback',\n",
              " 'warn',\n",
              " 'warning',\n",
              " 'warnings',\n",
              " 'weakref']"
            ]
          },
          "metadata": {
            "tags": []
          },
          "execution_count": 1
        }
      ]
    },
    {
      "cell_type": "markdown",
      "metadata": {
        "id": "56RGM3sd0qKH",
        "colab_type": "text"
      },
      "source": [
        "logging的功能还是比较复杂的，这节课主要以基本的日志为主，其他的形式需要萌新们自己实验。"
      ]
    },
    {
      "cell_type": "code",
      "metadata": {
        "id": "NsjrcGLf2nVN",
        "colab_type": "code",
        "outputId": "1311e320-3615-48ed-96ef-22aa97333be6",
        "colab": {
          "base_uri": "https://localhost:8080/",
          "height": 884
        }
      },
      "source": [
        "import logging\n",
        "help(logging.basicConfig)"
      ],
      "execution_count": 0,
      "outputs": [
        {
          "output_type": "stream",
          "text": [
            "Help on function basicConfig in module logging:\n",
            "\n",
            "basicConfig(**kwargs)\n",
            "    Do basic configuration for the logging system.\n",
            "    \n",
            "    This function does nothing if the root logger already has handlers\n",
            "    configured. It is a convenience method intended for use by simple scripts\n",
            "    to do one-shot configuration of the logging package.\n",
            "    \n",
            "    The default behaviour is to create a StreamHandler which writes to\n",
            "    sys.stderr, set a formatter using the BASIC_FORMAT format string, and\n",
            "    add the handler to the root logger.\n",
            "    \n",
            "    A number of optional keyword arguments may be specified, which can alter\n",
            "    the default behaviour.\n",
            "    \n",
            "    filename  Specifies that a FileHandler be created, using the specified\n",
            "              filename, rather than a StreamHandler.\n",
            "    filemode  Specifies the mode to open the file, if filename is specified\n",
            "              (if filemode is unspecified, it defaults to 'a').\n",
            "    format    Use the specified format string for the handler.\n",
            "    datefmt   Use the specified date/time format.\n",
            "    style     If a format string is specified, use this to specify the\n",
            "              type of format string (possible values '%', '{', '$', for\n",
            "              %-formatting, :meth:`str.format` and :class:`string.Template`\n",
            "              - defaults to '%').\n",
            "    level     Set the root logger level to the specified level.\n",
            "    stream    Use the specified stream to initialize the StreamHandler. Note\n",
            "              that this argument is incompatible with 'filename' - if both\n",
            "              are present, 'stream' is ignored.\n",
            "    handlers  If specified, this should be an iterable of already created\n",
            "              handlers, which will be added to the root handler. Any handler\n",
            "              in the list which does not have a formatter assigned will be\n",
            "              assigned the formatter created in this function.\n",
            "    \n",
            "    Note that you could specify a stream created using open(filename, mode)\n",
            "    rather than passing the filename and mode in. However, it should be\n",
            "    remembered that StreamHandler does not close its stream (since it may be\n",
            "    using sys.stdout or sys.stderr), whereas FileHandler closes its stream\n",
            "    when the handler is closed.\n",
            "    \n",
            "    .. versionchanged:: 3.2\n",
            "       Added the ``style`` parameter.\n",
            "    \n",
            "    .. versionchanged:: 3.3\n",
            "       Added the ``handlers`` parameter. A ``ValueError`` is now thrown for\n",
            "       incompatible arguments (e.g. ``handlers`` specified together with\n",
            "       ``filename``/``filemode``, or ``filename``/``filemode`` specified\n",
            "       together with ``stream``, or ``handlers`` specified together with\n",
            "       ``stream``.\n",
            "\n"
          ],
          "name": "stdout"
        }
      ]
    },
    {
      "cell_type": "code",
      "metadata": {
        "id": "3a5mj8a40_AB",
        "colab_type": "code",
        "colab": {
          "base_uri": "https://localhost:8080/",
          "height": 34
        },
        "outputId": "3867fade-4e38-40a8-8bb6-a2485689694c"
      },
      "source": [
        "import logging\n",
        "logging.basicConfig(filename=\"./log.out\")\n",
        "logger = logging.getLogger()\n",
        "\n",
        "logger.info(\"first\")\n",
        "print(logger.level)"
      ],
      "execution_count": 1,
      "outputs": [
        {
          "output_type": "stream",
          "text": [
            "30\n"
          ],
          "name": "stdout"
        }
      ]
    },
    {
      "cell_type": "markdown",
      "metadata": {
        "id": "5qmiQ4ne7agT",
        "colab_type": "text"
      },
      "source": [
        "这里会生成一个日志文件在当前目录下， 30代表着什么呢？在logging的等级制度里，分为：NOTSET-0，DEBUG-10，INFO-20，WARNING-30，ERROR-40，CRITICAL-50。30就代表当前的日志等级是basicConfig默认的WARNING。此时，我们做一个改动："
      ]
    },
    {
      "cell_type": "code",
      "metadata": {
        "id": "nKyyjlDa8WTd",
        "colab_type": "code",
        "colab": {
          "base_uri": "https://localhost:8080/",
          "height": 34
        },
        "outputId": "66359a4a-c7db-4eda-d0c8-8ee3eec5a69f"
      },
      "source": [
        "import logging\n",
        "logging.basicConfig(filename=\"./log.out\",\n",
        "                   level = logging.DEBUG)\n",
        "logger = logging.getLogger()\n",
        "\n",
        "logger.info(\"first\")\n",
        "print(logger.level)"
      ],
      "execution_count": 6,
      "outputs": [
        {
          "output_type": "stream",
          "text": [
            "30\n"
          ],
          "name": "stdout"
        }
      ]
    },
    {
      "cell_type": "markdown",
      "metadata": {
        "id": "g4PilkIy9XCi",
        "colab_type": "text"
      },
      "source": [
        "这里，理论上会打印出10，但是出错了，暂时找不出原因。如果打开log.out，内容如下：INFO:root:first."
      ]
    },
    {
      "cell_type": "markdown",
      "metadata": {
        "id": "7yB7j24U99Ga",
        "colab_type": "text"
      },
      "source": [
        "## New Format"
      ]
    },
    {
      "cell_type": "markdown",
      "metadata": {
        "id": "BOyufWTe-GB3",
        "colab_type": "text"
      },
      "source": [
        "根据自己的需要改写日志的格式，python提供了很多的信息模块，举个例子："
      ]
    },
    {
      "cell_type": "code",
      "metadata": {
        "id": "AIDF2Kch-UzP",
        "colab_type": "code",
        "colab": {
          "base_uri": "https://localhost:8080/",
          "height": 34
        },
        "outputId": "7ecccad0-25c5-4e52-cf2c-2a1612176669"
      },
      "source": [
        "import logging\n",
        "LOG_FORMAT=\"%(levelname) %(asctime)s - %(massage)s\"\n",
        "logging.basicConfig(filename=\"./log.out\",\n",
        "                   level = logging.DEBUG,\n",
        "                   format = LOG_FORMAT)\n",
        "logger = logging.getLogger()\n",
        "\n",
        "logger.info(\"first\")\n",
        "print(logger.level)"
      ],
      "execution_count": 11,
      "outputs": [
        {
          "output_type": "stream",
          "text": [
            "30\n"
          ],
          "name": "stdout"
        }
      ]
    },
    {
      "cell_type": "markdown",
      "metadata": {
        "id": "LUXIWvRr_L3g",
        "colab_type": "text"
      },
      "source": [
        "如果打开日志，会发现多了一行新的日志，格式会改为：INFO Y-M-D H-M-S-MS - first。如果想要每次都重写日志，则需要加入filemode："
      ]
    },
    {
      "cell_type": "code",
      "metadata": {
        "id": "3rTOov0GAxJN",
        "colab_type": "code",
        "colab": {}
      },
      "source": [
        "import logging\n",
        "LOG_FORMAT=\"%(levelname) %(asctime)s - %(massage)s\"\n",
        "logging.basicConfig(filename=\"./log.out\",\n",
        "                   level = logging.DEBUG,\n",
        "                   format = LOG_FORMAT,\n",
        "                   filemode = 'w')\n",
        "logger = logging.getLogger()\n",
        "\n",
        "logger.info(\"second\")"
      ],
      "execution_count": 0,
      "outputs": []
    },
    {
      "cell_type": "markdown",
      "metadata": {
        "id": "24Vzu7wOA-l3",
        "colab_type": "text"
      },
      "source": [
        "此时的输出日志就只有second这一行了。这里还需要注意一点，只有当前等级之上的message才会被写入日志："
      ]
    },
    {
      "cell_type": "code",
      "metadata": {
        "id": "y57ku3oEBZSP",
        "colab_type": "code",
        "colab": {}
      },
      "source": [
        "import logging\n",
        "LOG_FORMAT=\"%(levelname) %(asctime)s - %(massage)s\"\n",
        "logging.basicConfig(filename=\"./log.out\",\n",
        "                   level = logging.DEBUG,\n",
        "                   format = LOG_FORMAT,\n",
        "                   filemode = 'w')\n",
        "logger = logging.getLogger()\n",
        "\n",
        "# Test Massages\n",
        "logger.debug(\"This is a harmless debug message.\")\n",
        "logger.info(\"Just some useful info.\")\n",
        "logger.warning(\"Warning!\")\n",
        "logger.error(\"Did you just try to divide by zero?\")\n",
        "logger.critical(\"The entire internet is down!\")"
      ],
      "execution_count": 0,
      "outputs": []
    },
    {
      "cell_type": "markdown",
      "metadata": {
        "id": "LWZlj2jbCHNA",
        "colab_type": "text"
      },
      "source": [
        ""
      ]
    },
    {
      "cell_type": "markdown",
      "metadata": {
        "id": "DEzBeUnYCHPL",
        "colab_type": "text"
      },
      "source": [
        "运行之后，所有的massage都会在日志里出现。但是如果把basicConfig的level改成ERROR，那么之后存在最后两条。"
      ]
    },
    {
      "cell_type": "markdown",
      "metadata": {
        "id": "pCLXkAcXCaDa",
        "colab_type": "text"
      },
      "source": [
        "## Example"
      ]
    },
    {
      "cell_type": "markdown",
      "metadata": {
        "id": "PS_HXtUlCdvg",
        "colab_type": "text"
      },
      "source": [
        "如何运用日志更好地调试代码呢："
      ]
    },
    {
      "cell_type": "code",
      "metadata": {
        "id": "YOKWudfTC0Gi",
        "colab_type": "code",
        "colab": {
          "base_uri": "https://localhost:8080/",
          "height": 34
        },
        "outputId": "0241ecbb-aa5b-4607-c4e9-3570a668a192"
      },
      "source": [
        "import logging\n",
        "import math\n",
        "\n",
        "LOG_FORMAT=\"%(levelname) %(asctime)s - %(massage)s\"\n",
        "logging.basicConfig(filename=\"./mathlog.out\",\n",
        "                   level = logging.DEBUG,\n",
        "                   format = LOG_FORMAT,\n",
        "                   filemode = 'w')\n",
        "logger = logging.getLogger()\n",
        "\n",
        "def quadratic_formula(a,b,c):\n",
        "    \"\"\"Return the solutions to the equation ax^2 + bx + c = 0.\"\"\"\n",
        "    logger.info(\"quafratic_formula({0},{1},{2})\".format(a,b,c))\n",
        "    \n",
        "    # compute the discriminant\n",
        "    logger.debug(\"# Compute the discriminant\")\n",
        "    disc = b**2 - 4*a*c\n",
        "    \n",
        "    # compute the two roots\n",
        "    logger.debug(\"# Compute the two roots\")\n",
        "    root1 = (-b + math.sqrt(disc)) / (2*a)\n",
        "    root2 = (-b - math.sqrt(disc)) / (2*a)\n",
        "    \n",
        "    # Return the roots\n",
        "    logger.debug(\"# Return the roots\")\n",
        "    return (root1, root2)\n",
        "\n",
        "roots = quadratic_formula(1,0,-4)\n",
        "print(roots)"
      ],
      "execution_count": 14,
      "outputs": [
        {
          "output_type": "stream",
          "text": [
            "(2.0, -2.0)\n"
          ],
          "name": "stdout"
        }
      ]
    },
    {
      "cell_type": "markdown",
      "metadata": {
        "id": "Qc0lkFgYFI8v",
        "colab_type": "text"
      },
      "source": [
        "如果打开日志文件，一共四行：\n",
        "\n",
        "*   INFO\n",
        "*   DEBUG- # Compute the discriminant\n",
        "*   DEBUG- # Compute the two roots\n",
        "*   DEBUG- # return the roots\n",
        "\n",
        "下面举一个错误例子："
      ]
    },
    {
      "cell_type": "code",
      "metadata": {
        "id": "xp-6VrefFlhu",
        "colab_type": "code",
        "colab": {
          "base_uri": "https://localhost:8080/",
          "height": 338
        },
        "outputId": "d2e11771-b96d-4530-817c-86cc81b9d4c7"
      },
      "source": [
        "import logging\n",
        "import math\n",
        "\n",
        "LOG_FORMAT=\"%(levelname) %(asctime)s - %(massage)s\"\n",
        "logging.basicConfig(filename=\"./mathlog.out\",\n",
        "                   level = logging.DEBUG,\n",
        "                   format = LOG_FORMAT,\n",
        "                   filemode = 'w')\n",
        "logger = logging.getLogger()\n",
        "\n",
        "def quadratic_formula(a,b,c):\n",
        "    \"\"\"Return the solutions to the equation ax^2 + bx + c = 0.\"\"\"\n",
        "    logger.info(\"quafratic_formula({0},{1},{2})\".format(a,b,c))\n",
        "    \n",
        "    # compute the discriminant\n",
        "    logger.debug(\"# Compute the discriminant\")\n",
        "    disc = b**2 - 4*a*c\n",
        "    \n",
        "    # compute the two roots\n",
        "    logger.debug(\"# Compute the two roots\")\n",
        "    root1 = (-b + math.sqrt(disc)) / (2*a)\n",
        "    root2 = (-b - math.sqrt(disc)) / (2*a)\n",
        "    \n",
        "    # Return the roots\n",
        "    logger.debug(\"# Return the roots\")\n",
        "    return (root1, root2)\n",
        "\n",
        "# error: c=-4 -> c=1\n",
        "roots = quadratic_formula(1,0,1)\n",
        "print(roots)"
      ],
      "execution_count": 15,
      "outputs": [
        {
          "output_type": "error",
          "ename": "ValueError",
          "evalue": "ignored",
          "traceback": [
            "\u001b[0;31m---------------------------------------------------------------------------\u001b[0m",
            "\u001b[0;31mValueError\u001b[0m                                Traceback (most recent call last)",
            "\u001b[0;32m<ipython-input-15-d0549ea89a68>\u001b[0m in \u001b[0;36m<module>\u001b[0;34m()\u001b[0m\n\u001b[1;32m     27\u001b[0m \u001b[0;34m\u001b[0m\u001b[0m\n\u001b[1;32m     28\u001b[0m \u001b[0;31m# error: c=-4 -> c=1\u001b[0m\u001b[0;34m\u001b[0m\u001b[0;34m\u001b[0m\u001b[0;34m\u001b[0m\u001b[0m\n\u001b[0;32m---> 29\u001b[0;31m \u001b[0mroots\u001b[0m \u001b[0;34m=\u001b[0m \u001b[0mquadratic_formula\u001b[0m\u001b[0;34m(\u001b[0m\u001b[0;36m1\u001b[0m\u001b[0;34m,\u001b[0m\u001b[0;36m0\u001b[0m\u001b[0;34m,\u001b[0m\u001b[0;36m1\u001b[0m\u001b[0;34m)\u001b[0m\u001b[0;34m\u001b[0m\u001b[0;34m\u001b[0m\u001b[0m\n\u001b[0m\u001b[1;32m     30\u001b[0m \u001b[0mprint\u001b[0m\u001b[0;34m(\u001b[0m\u001b[0mroots\u001b[0m\u001b[0;34m)\u001b[0m\u001b[0;34m\u001b[0m\u001b[0;34m\u001b[0m\u001b[0m\n",
            "\u001b[0;32m<ipython-input-15-d0549ea89a68>\u001b[0m in \u001b[0;36mquadratic_formula\u001b[0;34m(a, b, c)\u001b[0m\n\u001b[1;32m     19\u001b[0m     \u001b[0;31m# compute the two roots\u001b[0m\u001b[0;34m\u001b[0m\u001b[0;34m\u001b[0m\u001b[0;34m\u001b[0m\u001b[0m\n\u001b[1;32m     20\u001b[0m     \u001b[0mlogger\u001b[0m\u001b[0;34m.\u001b[0m\u001b[0mdebug\u001b[0m\u001b[0;34m(\u001b[0m\u001b[0;34m\"# Compute the two roots\"\u001b[0m\u001b[0;34m)\u001b[0m\u001b[0;34m\u001b[0m\u001b[0;34m\u001b[0m\u001b[0m\n\u001b[0;32m---> 21\u001b[0;31m     \u001b[0mroot1\u001b[0m \u001b[0;34m=\u001b[0m \u001b[0;34m(\u001b[0m\u001b[0;34m-\u001b[0m\u001b[0mb\u001b[0m \u001b[0;34m+\u001b[0m \u001b[0mmath\u001b[0m\u001b[0;34m.\u001b[0m\u001b[0msqrt\u001b[0m\u001b[0;34m(\u001b[0m\u001b[0mdisc\u001b[0m\u001b[0;34m)\u001b[0m\u001b[0;34m)\u001b[0m \u001b[0;34m/\u001b[0m \u001b[0;34m(\u001b[0m\u001b[0;36m2\u001b[0m\u001b[0;34m*\u001b[0m\u001b[0ma\u001b[0m\u001b[0;34m)\u001b[0m\u001b[0;34m\u001b[0m\u001b[0;34m\u001b[0m\u001b[0m\n\u001b[0m\u001b[1;32m     22\u001b[0m     \u001b[0mroot2\u001b[0m \u001b[0;34m=\u001b[0m \u001b[0;34m(\u001b[0m\u001b[0;34m-\u001b[0m\u001b[0mb\u001b[0m \u001b[0;34m-\u001b[0m \u001b[0mmath\u001b[0m\u001b[0;34m.\u001b[0m\u001b[0msqrt\u001b[0m\u001b[0;34m(\u001b[0m\u001b[0mdisc\u001b[0m\u001b[0;34m)\u001b[0m\u001b[0;34m)\u001b[0m \u001b[0;34m/\u001b[0m \u001b[0;34m(\u001b[0m\u001b[0;36m2\u001b[0m\u001b[0;34m*\u001b[0m\u001b[0ma\u001b[0m\u001b[0;34m)\u001b[0m\u001b[0;34m\u001b[0m\u001b[0;34m\u001b[0m\u001b[0m\n\u001b[1;32m     23\u001b[0m \u001b[0;34m\u001b[0m\u001b[0m\n",
            "\u001b[0;31mValueError\u001b[0m: math domain error"
          ]
        }
      ]
    },
    {
      "cell_type": "markdown",
      "metadata": {
        "id": "EXRiTES-GI81",
        "colab_type": "text"
      },
      "source": [
        "出错，因此计算到math.sqrt时因为根号下不能为负，所以报错。如果打开此时的日志文件，可以发现一共有三行：\n",
        "*   INFO\n",
        "*   DEBUG- # Compute the discriminant\n",
        "*   DEBUG- # Compute the two roots\n",
        "最后一行即为出错的地方，这也就是我们平时DEBUG时候的方式。在代码中添加logging可以更好地找出错误所在，也可以提高代码的可读性。"
      ]
    }
  ]
}