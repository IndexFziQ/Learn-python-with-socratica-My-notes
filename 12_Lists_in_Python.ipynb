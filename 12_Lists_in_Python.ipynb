{
  "nbformat": 4,
  "nbformat_minor": 0,
  "metadata": {
    "colab": {
      "name": "12_Lists_in_Python.ipynb",
      "version": "0.3.2",
      "provenance": [],
      "collapsed_sections": []
    },
    "kernelspec": {
      "name": "python3",
      "display_name": "Python 3"
    }
  },
  "cells": [
    {
      "metadata": {
        "id": "t1FuBNsgoEy5",
        "colab_type": "text"
      },
      "cell_type": "markdown",
      "source": [
        "List[序列]是Python中最基本的数据结构。序列中的每个元素都分配一个数字，即它的位置，或着称为索引，第一个索引是0，第二个索引是1，依此类推。本节讲述如何创建一个List，并且规范化这个过程。\n",
        "\n",
        "有两种创建List的方式："
      ]
    },
    {
      "metadata": {
        "id": "QD79GbYJo9Dc",
        "colab_type": "code",
        "colab": {
          "base_uri": "https://localhost:8080/",
          "height": 34
        },
        "outputId": "7561df72-b4b4-4d92-e92b-d584c8be1665"
      },
      "cell_type": "code",
      "source": [
        "# One way is to use the list structure\n",
        "example = list()\n",
        "example = []\n",
        "\n",
        "# 当创建一个序列的时候，可以给它初始化一些值\n",
        "primes = [2,3,5,7,11,13]\n",
        "\n",
        "# 你可以使用append方法对该序列添加成员\n",
        "# 添加 17，19\n",
        "primes.append(17)\n",
        "primes.append(19)\n",
        "\n",
        "# display the list and you will see it contains new values.\n",
        "primes"
      ],
      "execution_count": 1,
      "outputs": [
        {
          "output_type": "execute_result",
          "data": {
            "text/plain": [
              "[2, 3, 5, 7, 11, 13, 17, 19]"
            ]
          },
          "metadata": {
            "tags": []
          },
          "execution_count": 1
        }
      ]
    },
    {
      "metadata": {
        "id": "K3FoVWOlqcaT",
        "colab_type": "text"
      },
      "cell_type": "markdown",
      "source": [
        "此时，你会发现，list的成员顺序与set是不一样的。在set中，顺序并不重要，但是在list中，顺序是一切。想要得到list中的一个成员，你只要知道它的索引，而不需要把所有成员遍历一次。在计算机中，索引从0开始，而不是1，我们将上面生成的list做个索引的对应。\n",
        "\n",
        "比如，我们想得到第一项，该怎么做？"
      ]
    },
    {
      "metadata": {
        "id": "5jD6mOSgs1Y6",
        "colab_type": "code",
        "colab": {
          "base_uri": "https://localhost:8080/",
          "height": 34
        },
        "outputId": "a64eddce-779c-4b75-8c06-f851dc7b21e5"
      },
      "cell_type": "code",
      "source": [
        "# type the name of the list and the index in brackets\n",
        "primes[0]"
      ],
      "execution_count": 2,
      "outputs": [
        {
          "output_type": "execute_result",
          "data": {
            "text/plain": [
              "2"
            ]
          },
          "metadata": {
            "tags": []
          },
          "execution_count": 2
        }
      ]
    },
    {
      "metadata": {
        "id": "NOfbc6kWtPLI",
        "colab_type": "text"
      },
      "cell_type": "markdown",
      "source": [
        "这是按照从左到右的顺序展开，当然你会想到这种情况，如果你输入-1呢？是第一个成员左边的什么神秘数呢？"
      ]
    },
    {
      "metadata": {
        "id": "GV7xxPDbt2fb",
        "colab_type": "code",
        "colab": {
          "base_uri": "https://localhost:8080/",
          "height": 34
        },
        "outputId": "a205fcf8-0f30-40ff-ec6f-28c341d13b5f"
      },
      "cell_type": "code",
      "source": [
        "primes[-1]"
      ],
      "execution_count": 3,
      "outputs": [
        {
          "output_type": "execute_result",
          "data": {
            "text/plain": [
              "19"
            ]
          },
          "metadata": {
            "tags": []
          },
          "execution_count": 3
        }
      ]
    },
    {
      "metadata": {
        "id": "c_0duoQOt6ZM",
        "colab_type": "text"
      },
      "cell_type": "markdown",
      "source": [
        "结果是list的最后一项，并不是所想的什么神秘数，也就是python把序列的最后一项提到了第一项的左边。以此类推，倒数第二项就是-2。"
      ]
    },
    {
      "metadata": {
        "id": "wwe5mpdVuke-",
        "colab_type": "code",
        "colab": {
          "base_uri": "https://localhost:8080/",
          "height": 168
        },
        "outputId": "66f2dc85-831c-4eae-926f-b0621bbb607c"
      },
      "cell_type": "code",
      "source": [
        "primes[8]"
      ],
      "execution_count": 4,
      "outputs": [
        {
          "output_type": "error",
          "ename": "IndexError",
          "evalue": "ignored",
          "traceback": [
            "\u001b[0;31m---------------------------------------------------------------------------\u001b[0m",
            "\u001b[0;31mIndexError\u001b[0m                                Traceback (most recent call last)",
            "\u001b[0;32m<ipython-input-4-71a05b4dcdbd>\u001b[0m in \u001b[0;36m<module>\u001b[0;34m()\u001b[0m\n\u001b[0;32m----> 1\u001b[0;31m \u001b[0mprimes\u001b[0m\u001b[0;34m[\u001b[0m\u001b[0;36m8\u001b[0m\u001b[0;34m]\u001b[0m\u001b[0;34m\u001b[0m\u001b[0;34m\u001b[0m\u001b[0m\n\u001b[0m",
            "\u001b[0;31mIndexError\u001b[0m: list index out of range"
          ]
        }
      ]
    },
    {
      "metadata": {
        "id": "kj4T-P_Rungr",
        "colab_type": "code",
        "colab": {
          "base_uri": "https://localhost:8080/",
          "height": 168
        },
        "outputId": "830970bf-daf8-4557-c51f-7909e434a604"
      },
      "cell_type": "code",
      "source": [
        "primes[-9]"
      ],
      "execution_count": 5,
      "outputs": [
        {
          "output_type": "error",
          "ename": "IndexError",
          "evalue": "ignored",
          "traceback": [
            "\u001b[0;31m---------------------------------------------------------------------------\u001b[0m",
            "\u001b[0;31mIndexError\u001b[0m                                Traceback (most recent call last)",
            "\u001b[0;32m<ipython-input-5-b35b831943c2>\u001b[0m in \u001b[0;36m<module>\u001b[0;34m()\u001b[0m\n\u001b[0;32m----> 1\u001b[0;31m \u001b[0mprimes\u001b[0m\u001b[0;34m[\u001b[0m\u001b[0;34m-\u001b[0m\u001b[0;36m9\u001b[0m\u001b[0;34m]\u001b[0m\u001b[0;34m\u001b[0m\u001b[0;34m\u001b[0m\u001b[0m\n\u001b[0m",
            "\u001b[0;31mIndexError\u001b[0m: list index out of range"
          ]
        }
      ]
    },
    {
      "metadata": {
        "id": "so3YBRB7urGX",
        "colab_type": "text"
      },
      "cell_type": "markdown",
      "source": [
        "不管用哪种顺序，越界都会报错。"
      ]
    },
    {
      "metadata": {
        "id": "jKTfvrB4vB_p",
        "colab_type": "text"
      },
      "cell_type": "markdown",
      "source": [
        "另一种得到序列的方式是切片[slicing]："
      ]
    },
    {
      "metadata": {
        "id": "fJcZ_KTju8Pp",
        "colab_type": "code",
        "colab": {
          "base_uri": "https://localhost:8080/",
          "height": 34
        },
        "outputId": "f7a92718-d599-40b0-e394-52de8a61356e"
      },
      "cell_type": "code",
      "source": [
        "# retrieve a range of values from your list\n",
        "# structure: name of list [a starting index : a stopping index]\n",
        "primes[2:5]"
      ],
      "execution_count": 6,
      "outputs": [
        {
          "output_type": "execute_result",
          "data": {
            "text/plain": [
              "[5, 7, 11]"
            ]
          },
          "metadata": {
            "tags": []
          },
          "execution_count": 6
        }
      ]
    },
    {
      "metadata": {
        "id": "jaEzimG4v3HL",
        "colab_type": "text"
      },
      "cell_type": "markdown",
      "source": [
        "注意一下，slicing包含起点，不包含终止点，再比如slicing[0:6]就不包括17。\n"
      ]
    },
    {
      "metadata": {
        "id": "H4EyrwKIwktr",
        "colab_type": "code",
        "colab": {
          "base_uri": "https://localhost:8080/",
          "height": 34
        },
        "outputId": "936ea9ef-24b5-482d-fe70-6e17120bb921"
      },
      "cell_type": "code",
      "source": [
        "primes[0:6]"
      ],
      "execution_count": 7,
      "outputs": [
        {
          "output_type": "execute_result",
          "data": {
            "text/plain": [
              "[2, 3, 5, 7, 11, 13]"
            ]
          },
          "metadata": {
            "tags": []
          },
          "execution_count": 7
        }
      ]
    },
    {
      "metadata": {
        "id": "ln1WnKQEwY7b",
        "colab_type": "text"
      },
      "cell_type": "markdown",
      "source": [
        "还有一点和set是一样的，list也可以包含所有的数据类型，并且可以包含子序列。这是python相较于其他编程语言比较方面的地方。"
      ]
    },
    {
      "metadata": {
        "id": "7RTyyJRew1go",
        "colab_type": "code",
        "colab": {}
      },
      "cell_type": "code",
      "source": [
        "example = [128,True,1.23,'hello',[64,False]]"
      ],
      "execution_count": 0,
      "outputs": []
    },
    {
      "metadata": {
        "id": "Ee02cMiJxQ4C",
        "colab_type": "text"
      },
      "cell_type": "markdown",
      "source": [
        "list还可以包含duplicate value【重复的值】，这是与set的第二点不同。"
      ]
    },
    {
      "metadata": {
        "id": "CAWHxeB50lvG",
        "colab_type": "code",
        "colab": {}
      },
      "cell_type": "code",
      "source": [
        "rolls = [4,7,2,7,12,4,7] # no error"
      ],
      "execution_count": 0,
      "outputs": []
    },
    {
      "metadata": {
        "id": "7kIG1jJV0-PS",
        "colab_type": "code",
        "colab": {
          "base_uri": "https://localhost:8080/",
          "height": 34
        },
        "outputId": "f2a3e75e-2046-4d39-92f9-5a803b9a547c"
      },
      "cell_type": "code",
      "source": [
        "# you can combine two list into a single list - using concatenation\n",
        "numbers = [1,2,3]\n",
        "letters = ['a','b','c']\n",
        "numbers + letters"
      ],
      "execution_count": 10,
      "outputs": [
        {
          "output_type": "execute_result",
          "data": {
            "text/plain": [
              "[1, 2, 3, 'a', 'b', 'c']"
            ]
          },
          "metadata": {
            "tags": []
          },
          "execution_count": 10
        }
      ]
    },
    {
      "metadata": {
        "id": "jEB83Qw41WFB",
        "colab_type": "code",
        "colab": {
          "base_uri": "https://localhost:8080/",
          "height": 34
        },
        "outputId": "46cbc2ca-f7c8-4452-b7cc-406ead709edd"
      },
      "cell_type": "code",
      "source": [
        "# order is everything\n",
        "letters + numbers"
      ],
      "execution_count": 11,
      "outputs": [
        {
          "output_type": "execute_result",
          "data": {
            "text/plain": [
              "['a', 'b', 'c', 1, 2, 3]"
            ]
          },
          "metadata": {
            "tags": []
          },
          "execution_count": 11
        }
      ]
    },
    {
      "metadata": {
        "id": "5Ssbl_WQ1sfK",
        "colab_type": "text"
      },
      "cell_type": "markdown",
      "source": [
        "对序列的操作有很多，一样的，用dir()，help()去查询："
      ]
    },
    {
      "metadata": {
        "id": "z8dn7dut1zKz",
        "colab_type": "code",
        "colab": {
          "base_uri": "https://localhost:8080/",
          "height": 799
        },
        "outputId": "23f06896-cef4-4bd7-802a-1137b74ec092"
      },
      "cell_type": "code",
      "source": [
        "dir(numbers)"
      ],
      "execution_count": 12,
      "outputs": [
        {
          "output_type": "execute_result",
          "data": {
            "text/plain": [
              "['__add__',\n",
              " '__class__',\n",
              " '__contains__',\n",
              " '__delattr__',\n",
              " '__delitem__',\n",
              " '__dir__',\n",
              " '__doc__',\n",
              " '__eq__',\n",
              " '__format__',\n",
              " '__ge__',\n",
              " '__getattribute__',\n",
              " '__getitem__',\n",
              " '__gt__',\n",
              " '__hash__',\n",
              " '__iadd__',\n",
              " '__imul__',\n",
              " '__init__',\n",
              " '__init_subclass__',\n",
              " '__iter__',\n",
              " '__le__',\n",
              " '__len__',\n",
              " '__lt__',\n",
              " '__mul__',\n",
              " '__ne__',\n",
              " '__new__',\n",
              " '__reduce__',\n",
              " '__reduce_ex__',\n",
              " '__repr__',\n",
              " '__reversed__',\n",
              " '__rmul__',\n",
              " '__setattr__',\n",
              " '__setitem__',\n",
              " '__sizeof__',\n",
              " '__str__',\n",
              " '__subclasshook__',\n",
              " 'append',\n",
              " 'clear',\n",
              " 'copy',\n",
              " 'count',\n",
              " 'extend',\n",
              " 'index',\n",
              " 'insert',\n",
              " 'pop',\n",
              " 'remove',\n",
              " 'reverse',\n",
              " 'sort']"
            ]
          },
          "metadata": {
            "tags": []
          },
          "execution_count": 12
        }
      ]
    },
    {
      "metadata": {
        "id": "8SfujGF1172j",
        "colab_type": "code",
        "colab": {
          "base_uri": "https://localhost:8080/",
          "height": 102
        },
        "outputId": "0d8421ce-ade7-4b7b-e349-cac862996073"
      },
      "cell_type": "code",
      "source": [
        "# for example, reverse function\n",
        "help(numbers.reverse) # 反转"
      ],
      "execution_count": 13,
      "outputs": [
        {
          "output_type": "stream",
          "text": [
            "Help on built-in function reverse:\n",
            "\n",
            "reverse(...) method of builtins.list instance\n",
            "    L.reverse() -- reverse *IN PLACE*\n",
            "\n"
          ],
          "name": "stdout"
        }
      ]
    },
    {
      "metadata": {
        "id": "tvD8123G2N0h",
        "colab_type": "text"
      },
      "cell_type": "markdown",
      "source": [
        "总结一下，list的索引从0开始，当序列创建好了，你可以对它进行串联、添加、反转、清空等操作，更详细的List教程就在python的文档中了，用好dir()和help()。"
      ]
    }
  ]
}